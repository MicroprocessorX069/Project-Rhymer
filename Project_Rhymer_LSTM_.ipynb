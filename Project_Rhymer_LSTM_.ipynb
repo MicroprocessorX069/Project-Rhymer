{
  "nbformat": 4,
  "nbformat_minor": 0,
  "metadata": {
    "colab": {
      "name": "Project Rhymer : LSTM .ipynb",
      "provenance": [],
      "collapsed_sections": [],
      "include_colab_link": true
    },
    "kernelspec": {
      "name": "python3",
      "display_name": "Python 3"
    },
    "accelerator": "GPU"
  },
  "cells": [
    {
      "cell_type": "markdown",
      "metadata": {
        "id": "view-in-github",
        "colab_type": "text"
      },
      "source": [
        "<a href=\"https://colab.research.google.com/github/MicroprocessorX069/Project-Rhymer/blob/master/Project_Rhymer_LSTM_.ipynb\" target=\"_parent\"><img src=\"https://colab.research.google.com/assets/colab-badge.svg\" alt=\"Open In Colab\"/></a>"
      ]
    },
    {
      "cell_type": "markdown",
      "metadata": {
        "id": "cdh__AoSYHCe",
        "colab_type": "text"
      },
      "source": [
        "#To copy\n"
      ]
    },
    {
      "cell_type": "code",
      "metadata": {
        "id": "dflUNFEBKaBn",
        "colab_type": "code",
        "colab": {}
      },
      "source": [
        "# from __future__ import absolute_import, division, print_function, unicode_literals\n",
        "# !pip install tensorflow-gpu==2.0\n",
        "# import tensorflow as tf\n",
        "# import numpy as np\n",
        "# import os\n",
        "# import datetime\n",
        "# from tensorflow.python.client import device_lib\n",
        "# print(device_lib.list_local_devices())\n",
        "\n",
        "# print(\"Tensorflow version: \",tf.__version__)"
      ],
      "execution_count": 0,
      "outputs": []
    },
    {
      "cell_type": "code",
      "metadata": {
        "id": "O9h_6ZsXvwv0",
        "colab_type": "code",
        "colab": {}
      },
      "source": [
        "!pip install tensorflow --upgrade --force-reinstall"
      ],
      "execution_count": 0,
      "outputs": []
    },
    {
      "cell_type": "code",
      "metadata": {
        "id": "qeKL-SIvvVf6",
        "colab_type": "code",
        "colab": {}
      },
      "source": [
        "from __future__ import absolute_import, division, print_function, unicode_literals\n",
        "\n",
        "import tensorflow as tf\n",
        "import numpy as np\n",
        "import os\n",
        "import datetime\n",
        "import pandas as pd\n"
      ],
      "execution_count": 0,
      "outputs": []
    },
    {
      "cell_type": "markdown",
      "metadata": {
        "id": "MvHkHgh5QtYA",
        "colab_type": "text"
      },
      "source": [
        "http://biobank.ctsu.ox.ac.uk/crystal/field.cgi?id=41202"
      ]
    },
    {
      "cell_type": "code",
      "metadata": {
        "id": "X_1HnrK2O5eA",
        "colab_type": "code",
        "outputId": "079e9594-fc7b-4a8c-fe0d-3d98522aca15",
        "colab": {
          "base_uri": "https://localhost:8080/",
          "height": 122
        }
      },
      "source": [
        "from google.colab import drive\n",
        "drive.mount('/content/drive',force_remount=True)"
      ],
      "execution_count": 4,
      "outputs": [
        {
          "output_type": "stream",
          "text": [
            "Go to this URL in a browser: https://accounts.google.com/o/oauth2/auth?client_id=947318989803-6bn6qk8qdgf4n4g3pfee6491hc0brc4i.apps.googleusercontent.com&redirect_uri=urn%3aietf%3awg%3aoauth%3a2.0%3aoob&response_type=code&scope=email%20https%3a%2f%2fwww.googleapis.com%2fauth%2fdocs.test%20https%3a%2f%2fwww.googleapis.com%2fauth%2fdrive%20https%3a%2f%2fwww.googleapis.com%2fauth%2fdrive.photos.readonly%20https%3a%2f%2fwww.googleapis.com%2fauth%2fpeopleapi.readonly\n",
            "\n",
            "Enter your authorization code:\n",
            "··········\n",
            "Mounted at /content/drive\n"
          ],
          "name": "stdout"
        }
      ]
    },
    {
      "cell_type": "code",
      "metadata": {
        "id": "IWf-SqtJPIrG",
        "colab_type": "code",
        "colab": {}
      },
      "source": [
        "#paths\n",
        "root_dir=\"/content/drive/My Drive/Projects/Project Rhymer\"\n",
        "dataset_path=\"/content/drive/My Drive/Projects/Project Rhymer/Dataset/complete-poetryfoundationorg-dataset/kaggle_poem_dataset.csv\"\n",
        "version=\"lstm-1\"\n",
        "ckpt_dir=\"/content/drive/My Drive/Projects/Project Rhymer/src/lstm-1/checkpoints\""
      ],
      "execution_count": 0,
      "outputs": []
    },
    {
      "cell_type": "code",
      "metadata": {
        "id": "EWno1J1sNe6f",
        "colab_type": "code",
        "colab": {}
      },
      "source": [
        "dataset=pd.read_csv(dataset_path,dtype=str, encoding='utf-8')\n"
      ],
      "execution_count": 0,
      "outputs": []
    },
    {
      "cell_type": "code",
      "metadata": {
        "id": "UVD2j58qNqs-",
        "colab_type": "code",
        "colab": {
          "base_uri": "https://localhost:8080/",
          "height": 419
        },
        "outputId": "b60aa9cf-b89a-45fd-91e1-90ff9ce52367"
      },
      "source": [
        "dataset"
      ],
      "execution_count": 57,
      "outputs": [
        {
          "output_type": "execute_result",
          "data": {
            "text/html": [
              "<div>\n",
              "<style scoped>\n",
              "    .dataframe tbody tr th:only-of-type {\n",
              "        vertical-align: middle;\n",
              "    }\n",
              "\n",
              "    .dataframe tbody tr th {\n",
              "        vertical-align: top;\n",
              "    }\n",
              "\n",
              "    .dataframe thead th {\n",
              "        text-align: right;\n",
              "    }\n",
              "</style>\n",
              "<table border=\"1\" class=\"dataframe\">\n",
              "  <thead>\n",
              "    <tr style=\"text-align: right;\">\n",
              "      <th></th>\n",
              "      <th>Unnamed: 0</th>\n",
              "      <th>Author</th>\n",
              "      <th>Title</th>\n",
              "      <th>Poetry Foundation ID</th>\n",
              "      <th>Content</th>\n",
              "    </tr>\n",
              "  </thead>\n",
              "  <tbody>\n",
              "    <tr>\n",
              "      <th>0</th>\n",
              "      <td>0</td>\n",
              "      <td>Wendy Videlock</td>\n",
              "      <td>!</td>\n",
              "      <td>55489</td>\n",
              "      <td>Dear Writers, I’m compiling the first in what ...</td>\n",
              "    </tr>\n",
              "    <tr>\n",
              "      <th>1</th>\n",
              "      <td>1</td>\n",
              "      <td>Hailey Leithauser</td>\n",
              "      <td>0</td>\n",
              "      <td>41729</td>\n",
              "      <td>Philosophic\\nin its complex, ovoid emptiness,\\...</td>\n",
              "    </tr>\n",
              "    <tr>\n",
              "      <th>2</th>\n",
              "      <td>2</td>\n",
              "      <td>Jody Gladding</td>\n",
              "      <td>1-800-FEAR</td>\n",
              "      <td>57135</td>\n",
              "      <td>We'd  like  to  talk  with  you  about  fear t...</td>\n",
              "    </tr>\n",
              "    <tr>\n",
              "      <th>3</th>\n",
              "      <td>3</td>\n",
              "      <td>Joseph Brodsky</td>\n",
              "      <td>1 January 1965</td>\n",
              "      <td>56736</td>\n",
              "      <td>The Wise Men will unlearn your name.\\nAbove yo...</td>\n",
              "    </tr>\n",
              "    <tr>\n",
              "      <th>4</th>\n",
              "      <td>4</td>\n",
              "      <td>Ted Berrigan</td>\n",
              "      <td>3 Pages</td>\n",
              "      <td>51624</td>\n",
              "      <td>For Jack Collom\\n10 Things I do Every Day\\n\\np...</td>\n",
              "    </tr>\n",
              "    <tr>\n",
              "      <th>...</th>\n",
              "      <td>...</td>\n",
              "      <td>...</td>\n",
              "      <td>...</td>\n",
              "      <td>...</td>\n",
              "      <td>...</td>\n",
              "    </tr>\n",
              "    <tr>\n",
              "      <th>15647</th>\n",
              "      <td>15647</td>\n",
              "      <td>Hannah Gamble</td>\n",
              "      <td>Your Invitation to a Modest Breakfast</td>\n",
              "      <td>56059</td>\n",
              "      <td>It’s too cold to smoke outside, but if you com...</td>\n",
              "    </tr>\n",
              "    <tr>\n",
              "      <th>15648</th>\n",
              "      <td>15648</td>\n",
              "      <td>Eleni Sikelianos</td>\n",
              "      <td>Your Kingdom\\n \\n \\n  \\n   Launch Audio in a N...</td>\n",
              "      <td>145220</td>\n",
              "      <td>if you like let the body feel\\nall its own evo...</td>\n",
              "    </tr>\n",
              "    <tr>\n",
              "      <th>15649</th>\n",
              "      <td>15649</td>\n",
              "      <td>Susan Elizabeth Howe</td>\n",
              "      <td>“Your Luck Is About To Change”</td>\n",
              "      <td>41696</td>\n",
              "      <td>(A fortune cookie)\\nOminous inscrutable Chines...</td>\n",
              "    </tr>\n",
              "    <tr>\n",
              "      <th>15650</th>\n",
              "      <td>15650</td>\n",
              "      <td>Andrew Shields</td>\n",
              "      <td>Your Mileage May Vary</td>\n",
              "      <td>90177</td>\n",
              "      <td>1\\nOur last night in the house was not our las...</td>\n",
              "    </tr>\n",
              "    <tr>\n",
              "      <th>15651</th>\n",
              "      <td>15651</td>\n",
              "      <td>Joseph O. Legaspi</td>\n",
              "      <td>Your Mother Wears a House Dress</td>\n",
              "      <td>91304</td>\n",
              "      <td>If your house\\nis a dress\\nit’ll fit like\\nLos...</td>\n",
              "    </tr>\n",
              "  </tbody>\n",
              "</table>\n",
              "<p>15652 rows × 5 columns</p>\n",
              "</div>"
            ],
            "text/plain": [
              "      Unnamed: 0  ...                                            Content\n",
              "0              0  ...  Dear Writers, I’m compiling the first in what ...\n",
              "1              1  ...  Philosophic\\nin its complex, ovoid emptiness,\\...\n",
              "2              2  ...  We'd  like  to  talk  with  you  about  fear t...\n",
              "3              3  ...  The Wise Men will unlearn your name.\\nAbove yo...\n",
              "4              4  ...  For Jack Collom\\n10 Things I do Every Day\\n\\np...\n",
              "...          ...  ...                                                ...\n",
              "15647      15647  ...  It’s too cold to smoke outside, but if you com...\n",
              "15648      15648  ...  if you like let the body feel\\nall its own evo...\n",
              "15649      15649  ...  (A fortune cookie)\\nOminous inscrutable Chines...\n",
              "15650      15650  ...  1\\nOur last night in the house was not our las...\n",
              "15651      15651  ...  If your house\\nis a dress\\nit’ll fit like\\nLos...\n",
              "\n",
              "[15652 rows x 5 columns]"
            ]
          },
          "metadata": {
            "tags": []
          },
          "execution_count": 57
        }
      ]
    },
    {
      "cell_type": "code",
      "metadata": {
        "id": "pbNiCBADNuq1",
        "colab_type": "code",
        "colab": {
          "base_uri": "https://localhost:8080/",
          "height": 54
        },
        "outputId": "2180a06e-396e-4b9b-d36a-b9383c014c51"
      },
      "source": [
        "dataset['Content'].replace('\\n',' ')\n",
        "temp=dataset['Content']\n",
        "temp[1]"
      ],
      "execution_count": 65,
      "outputs": [
        {
          "output_type": "execute_result",
          "data": {
            "text/plain": [
              "'Philosophic\\nin its complex, ovoid emptiness,\\na skillful pundit coined it as a sort\\nof stopgap doorstop for those\\nquaint equations\\n\\nRomans never\\ndreamt of. In form completely clever\\nand discrete—a mirror come unsilvered,\\nloose watch face without the works,\\na hollowed globe\\n\\nfrom tip to toe\\nunbroken, it evades the grappling\\nhooks of mass, tilts the thin rim of no thing,\\nremains embryonic sum,\\nnon-cogito.'"
            ]
          },
          "metadata": {
            "tags": []
          },
          "execution_count": 65
        }
      ]
    },
    {
      "cell_type": "code",
      "metadata": {
        "id": "9SFyeB66QHbV",
        "colab_type": "code",
        "outputId": "419cee1d-4f45-4c06-a200-7838bab6a208",
        "colab": {
          "base_uri": "https://localhost:8080/",
          "height": 34
        }
      },
      "source": [
        "text=open(dataset_path).read()\n",
        "print(\"Text is {} characters long\".format(len(text)))"
      ],
      "execution_count": 8,
      "outputs": [
        {
          "output_type": "stream",
          "text": [
            "Text is 23132050 characters long\n"
          ],
          "name": "stdout"
        }
      ]
    },
    {
      "cell_type": "code",
      "metadata": {
        "id": "v5ak2el8j5q8",
        "colab_type": "code",
        "outputId": "2d479362-a5fa-4a50-e346-f98cbbc6f450",
        "colab": {
          "base_uri": "https://localhost:8080/",
          "height": 54
        }
      },
      "source": [
        "text[0:800]"
      ],
      "execution_count": 13,
      "outputs": [
        {
          "output_type": "execute_result",
          "data": {
            "text/plain": [
              "',Author,Title,Poetry Foundation ID,Content\\n0,Wendy Videlock,!,55489,\"Dear Writers, I’m compiling the first in what I hope is a series of publications I’m calling artists among artists. The theme for issue 1 is “Faggot Dinosaur.” I hope to hear from you! Thank you and best wishes.\"\\n1,Hailey Leithauser,0,41729,\"Philosophic\\nin its complex, ovoid emptiness,\\na skillful pundit coined it as a sort\\nof stopgap doorstop for those\\nquaint equations\\n\\nRomans never\\ndreamt of. In form completely clever\\nand discrete—a mirror come unsilvered,\\nloose watch face without the works,\\na hollowed globe\\n\\nfrom tip to toe\\nunbroken, it evades the grappling\\nhooks of mass, tilts the thin rim of no thing,\\nremains embryonic sum,\\nnon-cogito.\"\\n2,Jody Gladding,1-800-FEAR,57135,\"We\\'d \\xa0like \\xa0to \\xa0talk \\xa0with \\xa0you \\xa0about \\xa0fear the'"
            ]
          },
          "metadata": {
            "tags": []
          },
          "execution_count": 13
        }
      ]
    },
    {
      "cell_type": "code",
      "metadata": {
        "id": "A-LnL7wGj9eE",
        "colab_type": "code",
        "outputId": "20037b61-38b8-4792-cc11-921b4a407c08",
        "colab": {
          "base_uri": "https://localhost:8080/",
          "height": 34
        }
      },
      "source": [
        "histories=[h for h in text.split('\\n')][1:]\n",
        "print(\"Data has {} poem contents\".format(len(histories)))\n",
        "n_patients=len(histories)"
      ],
      "execution_count": 17,
      "outputs": [
        {
          "output_type": "stream",
          "text": [
            "Data has 699551 poem contents\n"
          ],
          "name": "stdout"
        }
      ]
    },
    {
      "cell_type": "code",
      "metadata": {
        "id": "De2P9kZ2M-kV",
        "colab_type": "code",
        "colab": {
          "base_uri": "https://localhost:8080/",
          "height": 34
        },
        "outputId": "11c7806d-db5b-4be0-e21c-04bdd7afed0f"
      },
      "source": [
        "histories"
      ],
      "execution_count": 28,
      "outputs": [
        {
          "output_type": "execute_result",
          "data": {
            "text/plain": [
              "'a skillful pundit coined it as a sort'"
            ]
          },
          "metadata": {
            "tags": []
          },
          "execution_count": 28
        }
      ]
    },
    {
      "cell_type": "code",
      "metadata": {
        "id": "BIkohJ2mMiQi",
        "colab_type": "code",
        "colab": {
          "base_uri": "https://localhost:8080/",
          "height": 34
        },
        "outputId": "f942105b-dabd-483a-e1f3-9863435b99e8"
      },
      "source": [
        "temp=[symptom for symptom in histories[2].split(',')][-1]\n",
        "temp"
      ],
      "execution_count": 26,
      "outputs": [
        {
          "output_type": "execute_result",
          "data": {
            "text/plain": [
              "''"
            ]
          },
          "metadata": {
            "tags": []
          },
          "execution_count": 26
        }
      ]
    },
    {
      "cell_type": "code",
      "metadata": {
        "id": "Zx4nx_oZkfiW",
        "colab_type": "code",
        "outputId": "05f9cfa9-34dc-4d39-83e1-9c73d827fc8e",
        "colab": {
          "base_uri": "https://localhost:8080/"
        }
      },
      "source": [
        "n_patients=len(histories)\n",
        "\n",
        "real_data=[]\n",
        "for history in histories:\n",
        "  real_data.append([symptom for symptom in history.split(',')])\n",
        "for history in real_data:\n",
        "  while \"\" in history:\n",
        "    history.remove(\"\")\n",
        "  history.append(\"End\")\n",
        "\n",
        "real_data[0]"
      ],
      "execution_count": 0,
      "outputs": [
        {
          "output_type": "execute_result",
          "data": {
            "text/plain": [
              "['H269', 'D259', 'F067', 'End']"
            ]
          },
          "metadata": {
            "tags": []
          },
          "execution_count": 16
        }
      ]
    },
    {
      "cell_type": "markdown",
      "metadata": {
        "id": "AtwtPnTvsbs0",
        "colab_type": "text"
      },
      "source": [
        "Splitting each symptom in to 3 levels\n",
        "e.g. A423 as A, 42, 3"
      ]
    },
    {
      "cell_type": "markdown",
      "metadata": {
        "id": "PTNKON-_3Cqv",
        "colab_type": "text"
      },
      "source": [
        "Splitting one history into multiple sub histories\n",
        "H, 20, 4, G,12,6 into\n",
        "[H],[H,20],[H,20,4],[H,20,4,G]\n",
        "\n",
        "Min length has to be 4.\n",
        "i.e. One whole symptom has to be there (Not split, whole with all 3 levels) \n"
      ]
    },
    {
      "cell_type": "code",
      "metadata": {
        "id": "-HCoNkH0qwS9",
        "colab_type": "code",
        "colab": {}
      },
      "source": [
        "data=[]\n",
        "for history in real_data:\n",
        "  hist=[]\n",
        "  for s in history:\n",
        "    if s!=\"End\":\n",
        "      try:\n",
        "        hist.extend([s[0],s[1:3],s[3]])\n",
        "      except:\n",
        "        hist.extend([s[0],s[1:3],'0'])\n",
        "    else:\n",
        "      hist.append(s)\n",
        "  data.append(hist)\n",
        "data[0]\n",
        "\n",
        "#Splitting one history into multiple sub histories H, 20, 4, G,12,6 into [H],[H,20],[H,20,4],[H,20,4,G]\n",
        "#Min length has to be 4. i.e. One whole symptom has to be there (Not split, whole with all 3 levels)\n",
        "\n",
        "aug_data=[]\n",
        "for history in data:\n",
        "  n_sym=len(history)\n",
        "  for i in range(4,n_sym+1):\n",
        "    try:\n",
        "      aug_data.append(history[:i])\n",
        "    except:\n",
        "      print(history)"
      ],
      "execution_count": 0,
      "outputs": []
    },
    {
      "cell_type": "markdown",
      "metadata": {
        "id": "LT-x2NT5xb9E",
        "colab_type": "text"
      },
      "source": [
        "Combining all histories to one"
      ]
    },
    {
      "cell_type": "code",
      "metadata": {
        "id": "-L5Ox7NTxMHs",
        "colab_type": "code",
        "colab": {}
      },
      "source": [
        "text=[]\n",
        "for history in data:\n",
        "  text.extend(history)\n"
      ],
      "execution_count": 0,
      "outputs": []
    },
    {
      "cell_type": "markdown",
      "metadata": {
        "id": "DSfwTddbxsAW",
        "colab_type": "text"
      },
      "source": [
        "Each characted mapped as a no."
      ]
    },
    {
      "cell_type": "code",
      "metadata": {
        "id": "8kpxehY7xbUL",
        "colab_type": "code",
        "outputId": "80e569c0-7967-4736-a893-fea748549d64",
        "colab": {
          "base_uri": "https://localhost:8080/"
        }
      },
      "source": [
        "vocab=sorted(set(text))\n",
        "print(\"There are {} unique characters\".format(len(vocab)))\n",
        "char2int={c:i for i,c in enumerate(vocab)}\n",
        "int2char=np.array(vocab)\n",
        "print(\"Vector:\\n\")\n",
        "for char,_ in zip(char2int,range(8)):\n",
        "  print(' {:4s}: {:3d},'.format(repr(char), char2int[char]))"
      ],
      "execution_count": 0,
      "outputs": [
        {
          "output_type": "stream",
          "text": [
            "There are 132 unique characters\n",
            "Vector:\n",
            "\n",
            " '0' :   0,\n",
            " '00':   1,\n",
            " '01':   2,\n",
            " '02':   3,\n",
            " '03':   4,\n",
            " '04':   5,\n",
            " '05':   6,\n",
            " '06':   7,\n"
          ],
          "name": "stdout"
        }
      ]
    },
    {
      "cell_type": "markdown",
      "metadata": {
        "id": "_FjJL1enZjie",
        "colab_type": "text"
      },
      "source": [
        "##Data analysis"
      ]
    },
    {
      "cell_type": "code",
      "metadata": {
        "id": "PLHhz4B4Z03w",
        "colab_type": "code",
        "colab": {}
      },
      "source": [
        "def flatten2D(grid):\n",
        "  a=[]\n",
        "  for x in grid:\n",
        "    a.extend(x)\n",
        "  return a"
      ],
      "execution_count": 0,
      "outputs": []
    },
    {
      "cell_type": "code",
      "metadata": {
        "id": "weR4AgCCZgf8",
        "colab_type": "code",
        "colab": {}
      },
      "source": [
        "\n",
        "from collections import Counter\n",
        "import operator\n",
        "def get_top10(aug_data):\n",
        "  flatten_aug_data=flatten2D(aug_data)\n",
        "  counter_levels=Counter(flatten_aug_data)\n",
        "  percent_levels=sorted([[i, (counter_levels[i] / len(flatten_aug_data) * 100.0)] for i in counter_levels],reverse=True,key=operator.itemgetter(1))\n",
        "  return percent_levels[1:10]"
      ],
      "execution_count": 0,
      "outputs": []
    },
    {
      "cell_type": "code",
      "metadata": {
        "id": "fOiB_r_CbmLz",
        "colab_type": "code",
        "outputId": "bc0f023a-f8af-4930-f991-4acccecec48d",
        "colab": {
          "base_uri": "https://localhost:8080/"
        }
      },
      "source": [
        "print(\"Top 10 Symptoms\")\n",
        "print(get_top10(real_data))\n",
        "print(\"Top 10 symptoms levels\")\n",
        "a=get_top10(aug_data)\n"
      ],
      "execution_count": 0,
      "outputs": [
        {
          "output_type": "stream",
          "text": [
            "Top 10 Symptoms\n",
            "[['R074', 1.533902411749357], ['F329', 1.2412867633354456], ['F103', 1.0008573452119134], ['R104', 0.926305587654229], ['R55', 0.892757296753271], ['F102', 0.8834383270585604], ['F100', 0.8815745331196183], ['T391', 0.8032951876840496], ['R073', 0.6989227271032915]]\n",
            "Top 10 symptoms levels\n"
          ],
          "name": "stdout"
        }
      ]
    },
    {
      "cell_type": "code",
      "metadata": {
        "id": "LKx8MyOKcROt",
        "colab_type": "code",
        "outputId": "935a15c6-55b6-438f-916c-0a481ef0c2d4",
        "colab": {
          "base_uri": "https://localhost:8080/",
          "height": 265
        }
      },
      "source": [
        "import matplotlib.pyplot as plt\n",
        "top10_levels=np.array(get_top10(aug_data))\n",
        "#top10_levels[:,1].astype(int)\n",
        "y_pos = np.arange(len(top10_levels[:,0]))\n",
        " \n",
        "# Create bars\n",
        "plt.bar(y_pos, top10_levels[:,1])\n",
        " \n",
        "# Create names on the x-axis\n",
        "plt.xticks(y_pos, top10_levels[:,0])\n",
        " \n",
        "# Show graphic\n",
        "plt.show()\n",
        "\n",
        "#plt.bar(top10_levels[:,0],top10_levels[:,1])\n",
        "top10_symptoms=np.array(get_top10(real_data))\n",
        "#plt.bar(top10_symptoms[:,0],top10_symptoms[:,1])"
      ],
      "execution_count": 0,
      "outputs": [
        {
          "output_type": "display_data",
          "data": {
            "image/png": "[encoded data removed]",
            "text/plain": [
              "<Figure size 432x288 with 1 Axes>"
            ]
          },
          "metadata": {
            "tags": []
          }
        }
      ]
    },
    {
      "cell_type": "markdown",
      "metadata": {
        "id": "Hf2qKJbW0qPf",
        "colab_type": "text"
      },
      "source": [
        "Mapping each of the level codes in histories to nos."
      ]
    },
    {
      "cell_type": "code",
      "metadata": {
        "id": "amANcWru0Jzu",
        "colab_type": "code",
        "outputId": "87dc61ed-a6a7-4c1b-fcd3-74b76b8f4fb4",
        "colab": {
          "base_uri": "https://localhost:8080/"
        }
      },
      "source": [
        "int_data=[]\n",
        "for history in aug_data:\n",
        "  int_data.append(np.array([char2int[level_code] for level_code in history],dtype=np.int32))\n",
        "int_data=np.array(int_data)\n",
        "print ('{}\\n mapped to integers:\\n {}'.format(repr(aug_data[0]), int_data[0]))"
      ],
      "execution_count": 0,
      "outputs": [
        {
          "output_type": "stream",
          "text": [
            "['H', '26', '9', 'D']\n",
            " mapped to integers:\n",
            " [118  29  99 113]\n"
          ],
          "name": "stdout"
        }
      ]
    },
    {
      "cell_type": "markdown",
      "metadata": {
        "id": "2MC4ZvBBxi-d",
        "colab_type": "text"
      },
      "source": [
        "Creating training and validation sets"
      ]
    },
    {
      "cell_type": "code",
      "metadata": {
        "id": "rhn6W6DN9j3Z",
        "colab_type": "code",
        "colab": {}
      },
      "source": [
        "n_split_histories=len(aug_data) #length of all split histories"
      ],
      "execution_count": 0,
      "outputs": []
    },
    {
      "cell_type": "code",
      "metadata": {
        "id": "F6Yiem_R1AYJ",
        "colab_type": "code",
        "outputId": "bdfe2808-9b69-436b-a175-6e4311031d2c",
        "colab": {
          "base_uri": "https://localhost:8080/"
        }
      },
      "source": [
        "tr_split=0.8\n",
        "n_tr_samples=int(tr_split*n_split_histories)\n",
        "tr_data=int_data[:n_tr_samples]\n",
        "val_data=int_data[n_tr_samples:]\n",
        "print(\"Total size: {}, Train size : {}, Test size:{}\" \\\n",
        ".format(int_data.shape, tr_data.shape, val_data.shape))"
      ],
      "execution_count": 0,
      "outputs": [
        {
          "output_type": "stream",
          "text": [
            "Total size: (129777,), Train size : (103821,), Test size:(25956,)\n"
          ],
          "name": "stdout"
        }
      ]
    },
    {
      "cell_type": "markdown",
      "metadata": {
        "id": "LiUsUx2m1y7v",
        "colab_type": "text"
      },
      "source": [
        "**Variables and their meanings:**\n",
        "\n",
        "int_data= [[]] split symptoms mapped to nos.\n",
        "\n",
        "tr_data= training data of int_data\n",
        "\n",
        "text=[] all split symptoms flattened as one list\n",
        "\n",
        "data=[[]] histories of all split symptoms\n",
        "\n",
        "histories=[[]] histories of all symptoms(Not split)\n",
        "\n",
        "aug_data=[[]] split histories of split symptoms\n",
        "\n",
        "\n",
        "---\n",
        "\n"
      ]
    },
    {
      "cell_type": "markdown",
      "metadata": {
        "id": "meR_wLQBjfru",
        "colab_type": "text"
      },
      "source": [
        "##From Tensorflow doc - Creating dataset\n",
        "https://www.tensorflow.org/tutorials/load_data/text"
      ]
    },
    {
      "cell_type": "code",
      "metadata": {
        "id": "Eik7BIgPENB8",
        "colab_type": "code",
        "colab": {}
      },
      "source": [
        "def split_input_target(history):\n",
        "  return history[:-1],history[-1] \n",
        "\n",
        "labeled_data_sets=[]\n",
        "lines_dataset=tf.data.Dataset.from_generator(lambda: tr_data, tf.int32, output_shapes=[None])\n",
        "labeled_dataset = lines_dataset.map(lambda history: split_input_target(history))\n",
        "labeled_data_sets.append(labeled_dataset)"
      ],
      "execution_count": 0,
      "outputs": []
    },
    {
      "cell_type": "code",
      "metadata": {
        "id": "A8NsNjLMGskN",
        "colab_type": "code",
        "colab": {}
      },
      "source": [
        "BUFFER_SIZE = 50000\n",
        "BATCH_SIZE = 64  # no of lines to be taken at a time.\n",
        "TAKE_SIZE = 5000 # max characers to be taken?"
      ],
      "execution_count": 0,
      "outputs": []
    },
    {
      "cell_type": "code",
      "metadata": {
        "id": "Q0MID0R-GrNI",
        "colab_type": "code",
        "colab": {}
      },
      "source": [
        "all_labeled_data = labeled_data_sets[0]\n",
        "all_labeled_data = all_labeled_data.shuffle(\n",
        "    BUFFER_SIZE, reshuffle_each_iteration=False)"
      ],
      "execution_count": 0,
      "outputs": []
    },
    {
      "cell_type": "code",
      "metadata": {
        "id": "3Cf28GpsGx79",
        "colab_type": "code",
        "colab": {}
      },
      "source": [
        "# for ex in all_labeled_data.take(5):\n",
        "#   print(ex,\"\\n\")"
      ],
      "execution_count": 0,
      "outputs": []
    },
    {
      "cell_type": "code",
      "metadata": {
        "id": "YORLI09faiZC",
        "colab_type": "code",
        "colab": {}
      },
      "source": [
        "tr_data[0]"
      ],
      "execution_count": 0,
      "outputs": []
    },
    {
      "cell_type": "code",
      "metadata": {
        "id": "9mBfFOSpagRL",
        "colab_type": "code",
        "colab": {}
      },
      "source": [
        "from sklearn.cluster import KMeans\n",
        "import numpy as np\n",
        "\n",
        "kmeans = KMeans(n_clusters=2, random_state=0).fit(X)\n",
        "kmeans.labels_\n",
        "\n",
        "kmeans.predict([[0, 0], [12, 3]])\n",
        "\n",
        "kmeans.cluster_centers_"
      ],
      "execution_count": 0,
      "outputs": []
    },
    {
      "cell_type": "markdown",
      "metadata": {
        "id": "1UyCdbImOAv4",
        "colab_type": "text"
      },
      "source": [
        "#Model from tf 2.0 example for tf2.0 dataset type"
      ]
    },
    {
      "cell_type": "code",
      "metadata": {
        "id": "38NM6lWgN_zA",
        "colab_type": "code",
        "colab": {}
      },
      "source": [
        "train_data = all_labeled_data.skip(TAKE_SIZE)\n",
        "train_data = train_data.padded_batch(BATCH_SIZE, padded_shapes=([-1],[]))\n",
        "\n",
        "test_data = all_labeled_data.take(TAKE_SIZE)\n",
        "test_data = test_data.padded_batch(BATCH_SIZE, padded_shapes=([-1],[]))#pads the input according to the maximum length of history\n",
        "#since all histories have variable length"
      ],
      "execution_count": 0,
      "outputs": []
    },
    {
      "cell_type": "code",
      "metadata": {
        "id": "PSp1dfLJOTzo",
        "colab_type": "code",
        "colab": {}
      },
      "source": [
        "#sample_text, sample_labels = next(iter(test_data))\n",
        "\n",
        "#sample_text[0], sample_labels[0]"
      ],
      "execution_count": 0,
      "outputs": []
    },
    {
      "cell_type": "markdown",
      "metadata": {
        "id": "X8kJNTkEQHlz",
        "colab_type": "text"
      },
      "source": [
        "Todo: Need to make the dict char2int vocab of 0 to end. since the padding adds 0"
      ]
    },
    {
      "cell_type": "markdown",
      "metadata": {
        "id": "_G7UQ9MpR9F0",
        "colab_type": "text"
      },
      "source": [
        "##Major change in vocab here (ignore)\n",
        "index of 0 should be 'End'. Swapping to get 'End' at index 0"
      ]
    },
    {
      "cell_type": "code",
      "metadata": {
        "id": "rlbhdTTuRkeG",
        "colab_type": "code",
        "colab": {}
      },
      "source": [
        "vocab[0]"
      ],
      "execution_count": 0,
      "outputs": []
    },
    {
      "cell_type": "code",
      "metadata": {
        "id": "TM08b-XtQgnc",
        "colab_type": "code",
        "colab": {}
      },
      "source": [
        "char2int['0']=115\n",
        "char2int['End']=0\n",
        "vocab[0]='End'\n",
        "vocab[115]='0'"
      ],
      "execution_count": 0,
      "outputs": []
    },
    {
      "cell_type": "markdown",
      "metadata": {
        "id": "eESMGgcjSGqF",
        "colab_type": "text"
      },
      "source": [
        "##Building the model"
      ]
    },
    {
      "cell_type": "markdown",
      "metadata": {
        "id": "6lPpEboq92pX",
        "colab_type": "text"
      },
      "source": [
        "Links"
      ]
    },
    {
      "cell_type": "markdown",
      "metadata": {
        "id": "Y_-CqOvl246i",
        "colab_type": "text"
      },
      "source": [
        "\n",
        ">What does embedding layer do?\n",
        "\n",
        ">Bidirectional or normal LSTM\n",
        "\n",
        ">Increase LSTM units\n",
        "\n",
        ">Use restricted prediction acccording to the char first followed by nos.\n",
        "\n",
        ">Level wise prediction, predict a disease, rearrange overall history\n",
        "\n",
        ">Kmeans to cluster near by disease\n",
        "\n",
        ">new loss function to calculate correlation with the nearest cluster\n",
        "\n",
        ">How is it different than basically searching \n",
        "\n",
        ">Printing weights , which symptom contributes the most.\n",
        "\n",
        "\n",
        "\n"
      ]
    },
    {
      "cell_type": "code",
      "metadata": {
        "id": "Ns8VhlENSKzK",
        "colab_type": "code",
        "colab": {}
      },
      "source": [
        "vocab_size=len(vocab)\n",
        "model = tf.keras.Sequential()\n",
        "model.add(tf.keras.layers.Embedding(vocab_size, BATCH_SIZE)) #vocab size=132, batch_size=64\n",
        "model.add(tf.keras.layers.Bidirectional(tf.keras.layers.LSTM(64)))\n",
        "\n",
        "for units in [64, 64]: # for each batch each unit? check doc \n",
        "  model.add(tf.keras.layers.Dense(units, activation='relu'))\n",
        "\n",
        "model.add(tf.keras.layers.Dense(vocab_size, activation='softmax')) #outputting one element or level at a time. "
      ],
      "execution_count": 0,
      "outputs": []
    },
    {
      "cell_type": "code",
      "metadata": {
        "id": "BAWv3ZdAVXYM",
        "colab_type": "code",
        "colab": {}
      },
      "source": [
        "embedding_dim=256\n",
        "batch_size=BATCH_SIZE\n",
        "rnn_units=1024"
      ],
      "execution_count": 0,
      "outputs": []
    },
    {
      "cell_type": "code",
      "metadata": {
        "id": "owXuQmt-uouF",
        "colab_type": "code",
        "colab": {}
      },
      "source": [
        "def build_model(vocab_size,embedding_dim,rnn_units,batch_size):\n",
        "  model=tf.keras.Sequential([\n",
        "                             tf.keras.layers.Embedding(vocab_size,embedding_dim,batch_input_shape=[batch_size,None]),\n",
        "                             tf.keras.layers.Dropout(0.2),\n",
        "                             tf.keras.layers.LSTM(rnn_units,return_sequences=True,stateful=True,recurrent_initializer='glorot_uniform'),\n",
        "                             tf.keras.layers.Dropout(0.2),\n",
        "                             tf.keras.layers.Dense(vocab_size)\n",
        "  ])\n",
        "  return model\n",
        "\n",
        "model=build_model(\n",
        "    vocab_size=len(vocab),\n",
        "    embedding_dim=embedding_dim,\n",
        "    rnn_units=rnn_units,\n",
        "    batch_size=batch_size\n",
        ")"
      ],
      "execution_count": 0,
      "outputs": []
    },
    {
      "cell_type": "code",
      "metadata": {
        "id": "EYjEjuWJS190",
        "colab_type": "code",
        "colab": {}
      },
      "source": [
        "model.compile(optimizer='adam',\n",
        "              loss='sparse_categorical_crossentropy',\n",
        "              metrics=['accuracy'])"
      ],
      "execution_count": 0,
      "outputs": []
    },
    {
      "cell_type": "markdown",
      "metadata": {
        "id": "Y-w4M_mlS5L4",
        "colab_type": "text"
      },
      "source": [
        "##Training the model"
      ]
    },
    {
      "cell_type": "code",
      "metadata": {
        "id": "VCXmVmuZyb3R",
        "colab_type": "code",
        "colab": {}
      },
      "source": [
        "\n",
        "checkpoint_path = os.path.join(ckpt_dir,\"cp-{epoch:04d}.ckpt\")\n",
        "checkpoint_dir = os.path.dirname(checkpoint_path)\n",
        "\n",
        "cp_callback = tf.keras.callbacks.ModelCheckpoint(\n",
        "    filepath=checkpoint_path, \n",
        "    verbose=1, \n",
        "    save_weights_only=True,\n",
        "    period=5)"
      ],
      "execution_count": 0,
      "outputs": []
    },
    {
      "cell_type": "code",
      "metadata": {
        "id": "GAHY3ZT1S7tl",
        "colab_type": "code",
        "colab": {}
      },
      "source": [
        "model.save_weights(checkpoint_path.format(epoch=0))\n",
        "patience=25\n",
        "early_stop=tf.keras.callbacks.EarlyStopping(monitor='val_loss',patience=patience)\n",
        "model.fit(train_data, epochs=50, validation_data=test_data,callbacks=[cp_callback,early_stop])"
      ],
      "execution_count": 0,
      "outputs": []
    },
    {
      "cell_type": "code",
      "metadata": {
        "id": "MFp9qPg6hxdF",
        "colab_type": "code",
        "colab": {}
      },
      "source": [
        "\n",
        "checkpoint_path = os.path.join(ckpt_dir,\"cp-{epoch:04d}.ckpt\")\n",
        "checkpoint_dir = os.path.dirname(checkpoint_path)\n",
        "model.save_weights('ckpt_42')"
      ],
      "execution_count": 0,
      "outputs": []
    },
    {
      "cell_type": "code",
      "metadata": {
        "id": "2S-e3DhkvmmZ",
        "colab_type": "code",
        "colab": {}
      },
      "source": [
        "latest = tf.train.latest_checkpoint(checkpoint_dir)\n",
        "model.load_weights(latest)"
      ],
      "execution_count": 0,
      "outputs": []
    },
    {
      "cell_type": "code",
      "metadata": {
        "id": "ia31vrOvTZe2",
        "colab_type": "code",
        "colab": {}
      },
      "source": [
        "def generate_text(model, start_string):\n",
        "    \n",
        "    print(start_string)\n",
        "  \n",
        "    num_generate =5\n",
        "    input_eval = [char2int[s] for s in start_string]\n",
        "    input_eval = tf.expand_dims(input_eval, 0)\n",
        "    text_generated = []\n",
        "    temperature = 1.0\n",
        "    model.reset_states()\n",
        "    for i in range(num_generate):\n",
        "        predictions = model(input_eval)\n",
        "        predictions = tf.squeeze(predictions, 0)\n",
        "        predictions = predictions / temperature\n",
        "        predicted_id = tf.random.categorical([predictions],num_samples=1)[-1,0].numpy()\n",
        "        predicted_id_shaped=tf.expand_dims([predicted_id], 0)\n",
        "        input_eval=tf.concat([input_eval,predicted_id_shaped],1)\n",
        "        text_generated.append(int2char[predicted_id])\n",
        "\n",
        "    return (text_generated)\n",
        "\n",
        "generate_text(model,['H', '26', '9', 'D', '25', '9', 'F', '06'])"
      ],
      "execution_count": 0,
      "outputs": []
    },
    {
      "cell_type": "code",
      "metadata": {
        "id": "yrHxj6ocHQpc",
        "colab_type": "code",
        "colab": {}
      },
      "source": [
        "def generate_text(model, start_string,i=0):\n",
        "    \n",
        "    print(start_string)\n",
        "  \n",
        "    num_generate =2\n",
        "    input_eval = [char2int[s] for s in start_string]\n",
        "    input_eval = tf.expand_dims(input_eval, 0)\n",
        "    text_generated = []\n",
        "    temperature = 1.0\n",
        "    model.reset_states()\n",
        "    for i in range(num_generate):\n",
        "        predictions = model(input_eval)\n",
        "        predictions = tf.squeeze(predictions, 0)\n",
        "        predictions = predictions / temperature\n",
        "        predicted_id = tf.random.categorical([predictions],num_samples=5)#[-1,0].numpy()\n",
        "        #print(predicted_id)\n",
        "        # predicted_id_shaped=tf.expand_dims([predicted_id], 0)\n",
        "        # input_eval=tf.concat([input_eval,predicted_id_shaped],1)\n",
        "        text_generated.append([input_eval]+[int2char[p] for p in predicted_id[0]])\n",
        "        for predicted_level in text_generated[1:]:\n",
        "          input_eval2=tf.concat([input_eval,predicted_level],1)\n",
        "          generate_ #incomplete ?\n",
        "\n",
        "    return (text_generated)\n",
        "\n",
        "generate_text(model,['H', '26', '9', 'D', '25', '9', 'F', '06'])"
      ],
      "execution_count": 0,
      "outputs": []
    },
    {
      "cell_type": "code",
      "metadata": {
        "id": "DJS_l1TEyOt9",
        "colab_type": "code",
        "colab": {}
      },
      "source": [
        "aug_data[6]"
      ],
      "execution_count": 0,
      "outputs": []
    },
    {
      "cell_type": "markdown",
      "metadata": {
        "id": "J5nVwLN9rSq5",
        "colab_type": "text"
      },
      "source": [
        "TODO:\n",
        "\n",
        "\n",
        "* 1 disease - n diseases \n",
        "* possible pathways, decision trees of all possible diseases (doable)\n",
        "* Most probable disease with probability\n",
        "* writing out codes into disease names\n",
        "* accuracy, wrt levels, wrt no. of histories given, wrt repective alphabet/category (doable)\n",
        "* possible different type of data input 1. categorical variables as D, D06, D061, 2. adding visiting time as a parameter\n",
        "* multiple models: decision trees, rf, RNN withGRU, LSTM, simple NN\n",
        "* Model knowing what level to predict! first letter, followed by 2 digit no, follwed by one digit no.\n",
        "* Generalizing all algorithms combined for a model with different dataset and codes.\n",
        "* interactive UI - to display all names of diseases, graphs and analysis\n",
        "* related similar previous medical cases and confidence of the model\n",
        "\n",
        "**Visualizations**\n",
        "\n",
        "* Diseases covered uncovered (doable)\n",
        "* Most diseases and disease patterns (doable)\n",
        "* Confidence of model wrt each disease category\n",
        "\n",
        "**Links**\n",
        "* Tree graphs customize in python: \n",
        "\n"
      ]
    },
    {
      "cell_type": "code",
      "metadata": {
        "id": "PzfPuTMcrMwt",
        "colab_type": "code",
        "colab": {}
      },
      "source": [
        ""
      ],
      "execution_count": 0,
      "outputs": []
    }
  ]
}